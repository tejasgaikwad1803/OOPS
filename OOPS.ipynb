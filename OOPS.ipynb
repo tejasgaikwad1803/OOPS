{
  "nbformat": 4,
  "nbformat_minor": 0,
  "metadata": {
    "colab": {
      "provenance": []
    },
    "kernelspec": {
      "name": "python3",
      "display_name": "Python 3"
    },
    "language_info": {
      "name": "python"
    }
  },
  "cells": [
    {
      "cell_type": "markdown",
      "source": [
        "1.What is Object-Oriented Programming (OOP)?\n",
        "\n",
        "  -> OOP is a way of writing programs using objects (real-world entities) that have data (attributes) and functions (methods).\n",
        "\n",
        "  Key Features:\n",
        "\n",
        "Class : Blueprint of an object.\n",
        "\n",
        "Object : Instance of a class.\n",
        "\n",
        "Encapsulation : Hiding data inside the class.\n",
        "\n",
        "Inheritance : Reusing code from another class.\n",
        "\n",
        "Polymorphism : One method, many forms\n",
        "\n",
        "2.What is a class in OOP?\n",
        "\n",
        "  -> A class is a blueprint/template for creating objects. It defines attributes (data) and methods (functions).\n",
        "\n",
        "3.What is an object in OOP?\n",
        "\n",
        "  -> An object is a real-world instance of a class. It contains data (attributes) and can use methods defined in the class.\n",
        "\n",
        "4.What is the difference between abstraction and encapsulation?\n",
        "\n",
        "  -> Abstraction is about hiding the implementation details and showing only the necessary features to the user. It focuses on what an object does rather than how it does it. For example, when you drive a car, you only use the steering and pedals without knowing how the engine works.\n",
        "\n",
        "  Encapsulation, on the other hand, is about hiding data inside a class and providing controlled access through methods. It binds the data (attributes) and functions (methods) together, preventing direct modification from outside. In simple words, abstraction hides implementation, while encapsulation hides data.\n",
        "\n",
        "5.What are dunder methods in Python?\n",
        "\n",
        "  -> Dunder (double underscore) methods are special built-in methods in Python that start and end with __ (double underscores). They are also called magic methods and are used to define how objects of a class behave with operators and functions.\n",
        "\n",
        "6.Explain the concept of inheritance in OOP?\n",
        "\n",
        "  -> Inheritance is a feature of OOP where a child class (derived class) can use the properties and methods of a parent class (base class). It allows code reuse and helps in creating a hierarchy of classes. The child class can also have its own additional features or override the parent class methods.\n",
        "\n",
        "7.What is polymorphism in OOP?\n",
        "\n",
        "  -> Polymorphism means \"many forms\". In OOP, it allows the same function or operator to behave differently based on the object or data type. It helps in writing flexible and reusable code.\n",
        "\n",
        "8.How is encapsulation achieved in Python?\n",
        "\n",
        "  -> Encapsulation means hiding the data (variables) inside a class and controlling access to it through methods. This is achieved by using private (__) and protected (_) attributes along with getter and setter methods.\n",
        "\n",
        "9.What is a constructor in Python?\n",
        "\n",
        "  -> A constructor is a special method in a class that is automatically called when an object is created. In Python, the constructor is defined using the __init__() method. It is used to initialize object variables.\n",
        "\n",
        "10.What are class and static methods in Python?\n",
        "\n",
        "  -> 1. Class Method (@classmethod)\n",
        "Works with the class, not with objects.\n",
        "\n",
        "First argument is always cls (represents the class).\n",
        "\n",
        "Can access or modify class variables.\n",
        "\n",
        "2.Static Method (@staticmethod)\n",
        "Does not need self or cls.\n",
        "\n",
        "Used when we don’t need to access class or instance data.\n",
        "\n",
        "Behaves like a normal function inside a class.\n",
        "\n",
        "11.What is method overloading in Python?\n",
        "\n",
        "  -> Method overloading means having multiple methods with the same name but different parameters.\n",
        "\n",
        "Python does not support traditional method overloading like Java or C++.\n",
        "\n",
        "However, we can achieve a similar effect using default arguments or *args.\n",
        "\n",
        "12.What is method overriding in OOP?\n",
        "\n",
        "  -> Method overriding happens when a child class provides a new implementation of a method that is already defined in its parent class. The child class method replaces the parent class method when called using the child class object.\n",
        "\n",
        "13.What is a property decorator in Python?\n",
        "\n",
        "  -> The @property decorator in Python is used to convert a method into a read-only attribute. It allows you to access a method like an attribute without using parentheses.\n",
        "\n",
        "14.Why is polymorphism important in OOP?\n",
        "\n",
        "  -> Polymorphism is important because it allows one interface to work with multiple data types or classes, making code more flexible, reusable, and maintainable. It lets different objects respond to the same function call in their own way, which is key for extensibility and reducing code duplication.\n",
        "\n",
        "15.What is an abstract class in Python?\n",
        "\n",
        "  -> An abstract class is a blueprint for other classes. It can have abstract methods (methods declared but not implemented) that must be implemented by its child classes. Abstract classes cannot be instantiated directly.\n",
        "\n",
        "In Python, abstract classes are created using the abc (Abstract Base Class) module.\n",
        "\n",
        "16.What are the advantages of OOP?\n",
        "\n",
        "  -> Modularity – Code is divided into classes and objects, making it easy to manage.\n",
        "\n",
        "Reusability – Classes and methods can be reused through inheritance.\n",
        "\n",
        "Data Security – Encapsulation hides data and protects it from unauthorized access.\n",
        "\n",
        "Flexibility & Extensibility – Polymorphism allows the same interface to work with different types.\n",
        "\n",
        "Easy Maintenance – Changes in one part of the program do not affect other parts.\n",
        "\n",
        "17.What is the difference between a class variable and an instance variable?\n",
        "\n",
        "  -> Class Variable\n",
        "\n",
        "  Shared by all objects of a class.\n",
        "\n",
        "  Defined inside the class but outside methods\n",
        "\n",
        "  Accessed using ClassName.variable or object\n",
        "\n",
        "->  Instance Variable\n",
        "\n",
        "Unique to each object.\n",
        "\n",
        "Defined inside __init__ using self.\n",
        "\n",
        "Accessed using object.variable.\n",
        "\n",
        "18.What is multiple inheritance in Python?\n",
        "\n",
        "-> Multiple inheritance is a feature in Python where a class can inherit from more than one parent class. This allows the child class to use attributes and methods from multiple classes, promoting code reusability. However, it can sometimes lead to complexity, such as the Diamond Problem, which is resolved in Python using the Method Resolution Order (MRO).\n",
        "\n",
        "19.Explain the purpose of ‘’__str__’ and ‘__repr__’ ‘ methods in Python\n",
        "\n",
        "-> In Python, both __str__ and __repr__ are dunder (magic) methods used to define how an object is represented as a string.\n",
        "\n",
        "__str__: Used to return a user-friendly string representation of the object. It is called when you use print(object) or str(object).\n",
        "\n",
        "__repr__: Used to return an unambiguous (developer-friendly) representation of the object, mainly for debugging. It is called when you use repr(object) or when you just type the object name in the console.\n",
        "\n",
        "20.What is the significance of the ‘super()’ function in Python?\n",
        "\n",
        "-> The super() function is used to call methods of a parent class from a child class. It is commonly used in inheritance to access the parent class constructor (__init__) or other methods without explicitly naming the parent class. This makes code more flexible and easier to maintain, especially when dealing with multiple inheritance.\n",
        "\n",
        "21.What is the significance of the __del__ method in Python?\n",
        "\n",
        "-> The __del__ method in Python is known as the destructor. It is automatically called when an object is about to be destroyed (i.e., when it is no longer referenced or when the program ends). The purpose of __del__ is to perform cleanup operations like closing files, releasing resources, or freeing memory before the object is removed from memory.\n",
        "\n",
        "22.What is the difference between @staticmethod and @classmethod in Python?\n",
        "\n",
        "-> @classmethod takes cls (class reference) as the first argument.\n",
        "\n",
        "@staticmethod does not take self or cls.\n",
        "\n",
        "@classmethod can access and modify class variables.\n",
        "\n",
        "@staticmethod cannot access class variables unless passed explicitly.\n",
        "\n",
        "@classmethod is used when we need information about the class itself.\n",
        "\n",
        "@staticmethod is used for utility methods that don’t need class or instance data.\n",
        "\n",
        "23.How does polymorphism work in Python with inheritance?\n",
        "\n",
        "-> Polymorphism in Python allows a child class to provide its own implementation of a method that is already defined in the parent class. When an object of the child class is used, the overridden method in the child class is executed instead of the parent method. This is known as runtime polymorphism (or method overriding) and works seamlessly with inheritance.\n",
        "\n",
        "24.What is method chaining in Python OOP?\n",
        "\n",
        "-> Method chaining is a technique where multiple methods are called in a single statement, one after another, using the same object. This is possible when each method returns the object (self), allowing another method to be called on the same object.\n",
        "\n",
        "25.What is the purpose of the __call__ method in Python?\n",
        "\n",
        "-> The __call__ method in Python allows an object of a class to be called like a function. When you use object(), Python internally calls the object's __call__ method. It’s often used in scenarios like function objects, decorators, or callbacks.\n",
        "\n"
      ],
      "metadata": {
        "id": "vHNqEeXIGlNd"
      }
    },
    {
      "cell_type": "code",
      "source": [
        "# 1.1. Create a parent class Animal with a method speak() that prints a generic message. Create a child class Dog\n",
        "# that overrides the speak() method to print \"Bark!\".\n",
        "\n",
        "\n",
        "class Animal:\n",
        "    def speak(self):\n",
        "        print(\"Animals make sounds\")\n",
        "\n",
        "class Dog(Animal):\n",
        "    def speak(self):\n",
        "        print(\"Bark!\")\n",
        "\n",
        "\n",
        "a = Animal()\n",
        "d = Dog()\n",
        "\n",
        "a.speak()\n",
        "d.speak()\n"
      ],
      "metadata": {
        "colab": {
          "base_uri": "https://localhost:8080/"
        },
        "id": "0c_rFCpHOETx",
        "outputId": "b8347a07-8aa1-4ff9-ac2f-84ca28f9802f"
      },
      "execution_count": 1,
      "outputs": [
        {
          "output_type": "stream",
          "name": "stdout",
          "text": [
            "Animals make sounds\n",
            "Bark!\n"
          ]
        }
      ]
    },
    {
      "cell_type": "code",
      "source": [
        "# 2. Write a program to create an abstract class Shape with a method area(). Derive classes Circle and Rectangle\n",
        "# from it and implement the area() method in both.\n",
        "\n",
        "\n",
        "from abc import ABC, abstractmethod\n",
        "import math\n",
        "\n",
        "\n",
        "class Shape(ABC):\n",
        "    @abstractmethod\n",
        "    def area(self):\n",
        "        pass\n",
        "\n",
        "\n",
        "class Circle(Shape):\n",
        "    def __init__(self, radius):\n",
        "        self.radius = radius\n",
        "\n",
        "    def area(self):\n",
        "        return math.pi * self.radius * self.radius\n",
        "\n",
        "\n",
        "class Rectangle(Shape):\n",
        "    def __init__(self, length, width):\n",
        "        self.length = length\n",
        "        self.width = width\n",
        "\n",
        "    def area(self):\n",
        "        return self.length * self.width\n",
        "\n",
        "\n",
        "c = Circle(5)\n",
        "r = Rectangle(4, 6)\n",
        "\n",
        "print(\"Circle area:\", c.area())\n",
        "print(\"Rectangle area:\", r.area())\n"
      ],
      "metadata": {
        "colab": {
          "base_uri": "https://localhost:8080/"
        },
        "id": "tAwjDzFgOhJw",
        "outputId": "b7655474-9a5a-4c3f-c5bd-ac2830f644fc"
      },
      "execution_count": 2,
      "outputs": [
        {
          "output_type": "stream",
          "name": "stdout",
          "text": [
            "Circle area: 78.53981633974483\n",
            "Rectangle area: 24\n"
          ]
        }
      ]
    },
    {
      "cell_type": "code",
      "source": [
        "# 3. Implement a multi-level inheritance scenario where a class Vehicle has an attribute type. Derive a class Car\n",
        "# and further derive a class ElectricCar that adds a battery attribute.\n",
        "\n",
        "\n",
        "class Vehicle:\n",
        "    def __init__(self, type):\n",
        "        self.type = type\n",
        "\n",
        "    def show_type(self):\n",
        "        print(f\"Vehicle type: {self.type}\")\n",
        "\n",
        "\n",
        "class Car(Vehicle):\n",
        "    def __init__(self, type, brand):\n",
        "        super().__init__(type)\n",
        "        self.brand = brand\n",
        "\n",
        "    def show_car(self):\n",
        "        print(f\"Car brand: {self.brand}\")\n",
        "\n",
        "\n",
        "class ElectricCar(Car):\n",
        "    def __init__(self, type, brand, battery):\n",
        "        super().__init__(type, brand)\n",
        "        self.battery = battery\n",
        "\n",
        "    def show_details(self):\n",
        "        print(f\"Electric Car - Type: {self.type}, Brand: {self.brand}, Battery: {self.battery} kWh\")\n",
        "\n",
        "\n",
        "e_car = ElectricCar(\"Four Wheeler\", \"Tesla\", 100)\n",
        "e_car.show_details()\n"
      ],
      "metadata": {
        "colab": {
          "base_uri": "https://localhost:8080/"
        },
        "id": "wZbs3_w_O0zm",
        "outputId": "ba47395b-1685-4642-8524-bc61b7953dfd"
      },
      "execution_count": 3,
      "outputs": [
        {
          "output_type": "stream",
          "name": "stdout",
          "text": [
            "Electric Car - Type: Four Wheeler, Brand: Tesla, Battery: 100 kWh\n"
          ]
        }
      ]
    },
    {
      "cell_type": "code",
      "source": [
        "# 4. Demonstrate polymorphism by creating a base class Bird with a method fly(). Create two derived classes\n",
        "# Sparrow and Penguin that override the fly() method.\n",
        "\n",
        "class Bird:\n",
        "    def fly(self):\n",
        "        print(\"Birds can fly in general.\")\n",
        "\n",
        "class Sparrow(Bird):\n",
        "    def fly(self):\n",
        "        print(\"Sparrow can fly high!\")\n",
        "\n",
        "\n",
        "class Penguin(Bird):\n",
        "    def fly(self):\n",
        "        print(\"Penguins cannot fly.\")\n",
        "\n",
        "\n",
        "birds = [Sparrow(), Penguin()]\n",
        "\n",
        "for b in birds:\n",
        "    b.fly()\n"
      ],
      "metadata": {
        "colab": {
          "base_uri": "https://localhost:8080/"
        },
        "id": "vcIQKa_oPIQ-",
        "outputId": "17c8d039-9333-4f91-e58d-e776e22ef643"
      },
      "execution_count": 4,
      "outputs": [
        {
          "output_type": "stream",
          "name": "stdout",
          "text": [
            "Sparrow can fly high!\n",
            "Penguins cannot fly.\n"
          ]
        }
      ]
    },
    {
      "cell_type": "code",
      "source": [
        "# 5. Write a program to demonstrate encapsulation by creating a class BankAccount with private attributes\n",
        "# balance and methods to deposit, withdraw, and check balance.\n",
        "\n",
        "class BankAccount:\n",
        "    def __init__(self, balance=0):\n",
        "        self.__balance = balance\n",
        "\n",
        "    def deposit(self, amount):\n",
        "        if amount > 0:\n",
        "            self.__balance += amount\n",
        "\n",
        "    def withdraw(self, amount):\n",
        "        if 0 < amount <= self.__balance:\n",
        "            self.__balance -= amount\n",
        "\n",
        "    def get_balance(self):\n",
        "        return self.__balance\n",
        "\n",
        "account = BankAccount(1000)\n",
        "account.deposit(500)\n",
        "account.withdraw(200)\n",
        "print(\"Balance:\", account.get_balance())\n"
      ],
      "metadata": {
        "colab": {
          "base_uri": "https://localhost:8080/"
        },
        "id": "U2CbP6XfPeKg",
        "outputId": "97fefcba-c6a0-40ee-9615-15e7217462de"
      },
      "execution_count": 5,
      "outputs": [
        {
          "output_type": "stream",
          "name": "stdout",
          "text": [
            "Balance: 1300\n"
          ]
        }
      ]
    },
    {
      "cell_type": "code",
      "source": [
        "# 6. Demonstrate runtime polymorphism using a method play() in a base class Instrument. Derive classes Guitar\n",
        "# and Piano that implement their own version of play().\n",
        "\n",
        "class Instrument:\n",
        "    def play(self):\n",
        "        print(\"Playing an instrument\")\n",
        "\n",
        "class Guitar(Instrument):\n",
        "    def play(self):\n",
        "        print(\"Playing the guitar\")\n",
        "\n",
        "class Piano(Instrument):\n",
        "    def play(self):\n",
        "        print(\"Playing the piano\")\n",
        "\n",
        "instruments = [Guitar(), Piano()]\n",
        "for i in instruments:\n",
        "    i.play()\n"
      ],
      "metadata": {
        "colab": {
          "base_uri": "https://localhost:8080/"
        },
        "id": "UyfENy-XPoMe",
        "outputId": "af930a66-c6b2-4100-ac66-1d0d70ff8157"
      },
      "execution_count": 6,
      "outputs": [
        {
          "output_type": "stream",
          "name": "stdout",
          "text": [
            "Playing the guitar\n",
            "Playing the piano\n"
          ]
        }
      ]
    },
    {
      "cell_type": "code",
      "source": [
        "# 7. Create a class MathOperations with a class method add_numbers() to add two numbers and a static\n",
        "# method subtract_numbers() to subtract two numbers.\n",
        "\n",
        "class MathOperations:\n",
        "    @classmethod\n",
        "    def add_numbers(cls, a, b):\n",
        "        return a + b\n",
        "\n",
        "    @staticmethod\n",
        "    def subtract_numbers(a, b):\n",
        "        return a - b\n",
        "\n",
        "print(MathOperations.add_numbers(5, 3))\n",
        "print(MathOperations.subtract_numbers(10, 4))\n"
      ],
      "metadata": {
        "colab": {
          "base_uri": "https://localhost:8080/"
        },
        "id": "AUn_MWAhPxGV",
        "outputId": "463b133c-08c7-4e49-dfcb-a6e9fae484fb"
      },
      "execution_count": 7,
      "outputs": [
        {
          "output_type": "stream",
          "name": "stdout",
          "text": [
            "8\n",
            "6\n"
          ]
        }
      ]
    },
    {
      "cell_type": "code",
      "source": [
        "# 8. Implement a class Person with a class method to count the total number of persons created.\n",
        "\n",
        "class Person:\n",
        "    count = 0\n",
        "\n",
        "    def __init__(self, name):\n",
        "        self.name = name\n",
        "        Person.count += 1\n",
        "\n",
        "    @classmethod\n",
        "    def total_persons(cls):\n",
        "        return cls.count\n",
        "\n",
        "p1 = Person(\"Tejas\")\n",
        "p2 = Person(\"Om\")\n",
        "print(\"Total persons:\", Person.total_persons())\n"
      ],
      "metadata": {
        "colab": {
          "base_uri": "https://localhost:8080/"
        },
        "id": "pV-y_CqdP1D-",
        "outputId": "b46f8f88-c4e7-4d00-c3da-68456adcb39c"
      },
      "execution_count": 8,
      "outputs": [
        {
          "output_type": "stream",
          "name": "stdout",
          "text": [
            "Total persons: 2\n"
          ]
        }
      ]
    },
    {
      "cell_type": "code",
      "source": [
        "# 9. Write a class Fraction with attributes numerator and denominator. Override the str method to display the\n",
        "# fraction as \"numerator/denominator\".\n",
        "\n",
        "class Fraction:\n",
        "    def __init__(self, numerator, denominator):\n",
        "        self.numerator = numerator\n",
        "        self.denominator = denominator\n",
        "\n",
        "    def __str__(self):\n",
        "        return f\"{self.numerator}/{self.denominator}\"\n",
        "\n",
        "f = Fraction(3, 4)\n",
        "print(f)\n"
      ],
      "metadata": {
        "colab": {
          "base_uri": "https://localhost:8080/"
        },
        "id": "i7gfOIGYP1Hc",
        "outputId": "2ffe3fe6-0789-448d-a876-ec0bea9711a4"
      },
      "execution_count": 9,
      "outputs": [
        {
          "output_type": "stream",
          "name": "stdout",
          "text": [
            "3/4\n"
          ]
        }
      ]
    },
    {
      "cell_type": "code",
      "source": [
        "# 10. Demonstrate operator overloading by creating a class Vector and overriding the add method to add two\n",
        "# vectors\n",
        "\n",
        "class Vector:\n",
        "    def __init__(self, x, y):\n",
        "        self.x = x\n",
        "        self.y = y\n",
        "\n",
        "    def __add__(self, other):\n",
        "        return Vector(self.x + other.x, self.y + other.y)\n",
        "\n",
        "    def __str__(self):\n",
        "        return f\"({self.x}, {self.y})\"\n",
        "\n",
        "v1 = Vector(2, 3)\n",
        "v2 = Vector(4, 5)\n",
        "v3 = v1 + v2\n",
        "print(v3)\n"
      ],
      "metadata": {
        "colab": {
          "base_uri": "https://localhost:8080/"
        },
        "id": "Fxc_Iqw_P1LG",
        "outputId": "3c142e82-3a30-4c1b-e6f1-fe0119f32fde"
      },
      "execution_count": 10,
      "outputs": [
        {
          "output_type": "stream",
          "name": "stdout",
          "text": [
            "(6, 8)\n"
          ]
        }
      ]
    },
    {
      "cell_type": "code",
      "source": [
        "# 11. Create a class Person with attributes name and age. Add a method greet() that prints \"Hello, my name is\n",
        "# {name} and I am {age} years old.\"\n",
        "\n",
        "class Person:\n",
        "    def __init__(self, name, age):\n",
        "        self.name = name\n",
        "        self.age = age\n",
        "\n",
        "    def greet(self):\n",
        "        print(f\"Hello, my name is {self.name} and I am {self.age} years old.\")\n",
        "\n",
        "p = Person(\"Tejas\", 21)\n",
        "p.greet()\n"
      ],
      "metadata": {
        "colab": {
          "base_uri": "https://localhost:8080/"
        },
        "id": "YJMDckaiP1O2",
        "outputId": "2a141600-7b65-400f-daec-03c3b954c8bd"
      },
      "execution_count": 11,
      "outputs": [
        {
          "output_type": "stream",
          "name": "stdout",
          "text": [
            "Hello, my name is Tejas and I am 21 years old.\n"
          ]
        }
      ]
    },
    {
      "cell_type": "code",
      "source": [
        "# 12. Implement a class Student with attributes name and grades. Create a method average_grade() to compute\n",
        "# the average of the grades.\n",
        "\n",
        "class Student:\n",
        "    def __init__(self, name, grades):\n",
        "        self.name = name\n",
        "        self.grades = grades\n",
        "\n",
        "    def average_grade(self):\n",
        "        return sum(self.grades) / len(self.grades)\n",
        "\n",
        "s = Student(\"Tejas\", [85, 90, 78])\n",
        "print(\"Average grade:\", s.average_grade())\n"
      ],
      "metadata": {
        "colab": {
          "base_uri": "https://localhost:8080/"
        },
        "id": "XynSDsT6P1S-",
        "outputId": "db569054-b62e-496f-e9e1-c85652b65b44"
      },
      "execution_count": 12,
      "outputs": [
        {
          "output_type": "stream",
          "name": "stdout",
          "text": [
            "Average grade: 84.33333333333333\n"
          ]
        }
      ]
    },
    {
      "cell_type": "code",
      "source": [
        "# 13. Create a class Rectangle with methods set_dimensions() to set the dimensions and area() to calculate the\n",
        "# area.\n",
        "\n",
        "class Rectangle:\n",
        "    def set_dimensions(self, length, width):\n",
        "        self.length = length\n",
        "        self.width = width\n",
        "\n",
        "    def area(self):\n",
        "        return self.length * self.width\n",
        "\n",
        "r = Rectangle()\n",
        "r.set_dimensions(5, 3)\n",
        "print(\"Area:\", r.area())\n"
      ],
      "metadata": {
        "colab": {
          "base_uri": "https://localhost:8080/"
        },
        "id": "Xh3LvG4UP1Zv",
        "outputId": "cc29cccb-9a21-4a2b-95be-6902d088e913"
      },
      "execution_count": 13,
      "outputs": [
        {
          "output_type": "stream",
          "name": "stdout",
          "text": [
            "Area: 15\n"
          ]
        }
      ]
    },
    {
      "cell_type": "code",
      "source": [
        "# 14. Create a class Employee with a method calculate_salary() that computes the salary based on hours worked\n",
        "# and hourly rate. Create a derived class Manager that adds a bonus to the salary.\n",
        "\n",
        "class Employee:\n",
        "    def __init__(self, hours, rate):\n",
        "        self.hours = hours\n",
        "        self.rate = rate\n",
        "\n",
        "    def calculate_salary(self):\n",
        "        return self.hours * self.rate\n",
        "\n",
        "class Manager(Employee):\n",
        "    def __init__(self, hours, rate, bonus):\n",
        "        super().__init__(hours, rate)\n",
        "        self.bonus = bonus\n",
        "\n",
        "    def calculate_salary(self):\n",
        "        return super().calculate_salary() + self.bonus\n",
        "\n",
        "e = Employee(40, 50)\n",
        "m = Manager(40, 50, 1000)\n",
        "print(\"Employee salary:\", e.calculate_salary())\n",
        "print(\"Manager salary:\", m.calculate_salary())\n"
      ],
      "metadata": {
        "colab": {
          "base_uri": "https://localhost:8080/"
        },
        "id": "zLDnL3ySP1dF",
        "outputId": "8fe3ce5a-956c-4366-8a52-e0b05d55df73"
      },
      "execution_count": 14,
      "outputs": [
        {
          "output_type": "stream",
          "name": "stdout",
          "text": [
            "Employee salary: 2000\n",
            "Manager salary: 3000\n"
          ]
        }
      ]
    },
    {
      "cell_type": "code",
      "source": [
        "# 15. Create a class Product with attributes name, price, and quantity. Implement a method total_price() that\n",
        "# calculates the total price of the product.\n",
        "\n",
        "class Product:\n",
        "    def __init__(self, name, price, quantity):\n",
        "        self.name = name\n",
        "        self.price = price\n",
        "        self.quantity = quantity\n",
        "\n",
        "    def total_price(self):\n",
        "        return self.price * self.quantity\n",
        "\n",
        "p = Product(\"Laptop\", 50000, 2)\n",
        "print(\"Total price:\", p.total_price())\n"
      ],
      "metadata": {
        "colab": {
          "base_uri": "https://localhost:8080/"
        },
        "id": "43v3xCJTP1hJ",
        "outputId": "42ee1fa4-2ae0-4567-f604-dee80d971da4"
      },
      "execution_count": 15,
      "outputs": [
        {
          "output_type": "stream",
          "name": "stdout",
          "text": [
            "Total price: 100000\n"
          ]
        }
      ]
    },
    {
      "cell_type": "code",
      "source": [
        "# 16. Create a class Animal with an abstract method sound(). Create two derived classes Cow and Sheep that\n",
        "# implement the sound() method.\n",
        "\n",
        "from abc import ABC, abstractmethod\n",
        "\n",
        "class Animal(ABC):\n",
        "    @abstractmethod\n",
        "    def sound(self):\n",
        "        pass\n",
        "\n",
        "class Cow(Animal):\n",
        "    def sound(self):\n",
        "        print(\"Moo\")\n",
        "\n",
        "class Sheep(Animal):\n",
        "    def sound(self):\n",
        "        print(\"Baa\")\n",
        "\n",
        "c = Cow()\n",
        "s = Sheep()\n",
        "c.sound()\n",
        "s.sound()\n"
      ],
      "metadata": {
        "colab": {
          "base_uri": "https://localhost:8080/"
        },
        "id": "Vt9Mhu_-P1kY",
        "outputId": "c50e9ba6-4b18-41ea-d044-6c76c9e21ef7"
      },
      "execution_count": 16,
      "outputs": [
        {
          "output_type": "stream",
          "name": "stdout",
          "text": [
            "Moo\n",
            "Baa\n"
          ]
        }
      ]
    },
    {
      "cell_type": "code",
      "source": [
        "# 17. Create a class Book with attributes title, author, and year_published. Add a method get_book_info() that\n",
        "# returns a formatted string with the book's details.\n",
        "\n",
        "class Book:\n",
        "    def __init__(self, title, author, year_published):\n",
        "        self.title = title\n",
        "        self.author = author\n",
        "        self.year_published = year_published\n",
        "\n",
        "    def get_book_info(self):\n",
        "        return f\"'{self.title}' by {self.author}, published in {self.year_published}\"\n",
        "\n",
        "b = Book(\"Python Basics\", \"Tejas\", 2021)\n",
        "print(b.get_book_info())\n"
      ],
      "metadata": {
        "colab": {
          "base_uri": "https://localhost:8080/"
        },
        "id": "zTpkTzUqP1oG",
        "outputId": "9cb0bc65-1747-4ac1-af6c-432f46412886"
      },
      "execution_count": 18,
      "outputs": [
        {
          "output_type": "stream",
          "name": "stdout",
          "text": [
            "'Python Basics' by Tejas, published in 2021\n"
          ]
        }
      ]
    },
    {
      "cell_type": "code",
      "source": [
        "# 18. Create a class House with attributes address and price. Create a derived class Mansion that adds an\n",
        "# attribute number_of_rooms\n",
        "\n",
        "class House:\n",
        "    def __init__(self, address, price):\n",
        "        self.address = address\n",
        "        self.price = price\n",
        "\n",
        "class Mansion(House):\n",
        "    def __init__(self, address, price, number_of_rooms):\n",
        "        super().__init__(address, price)\n",
        "        self.number_of_rooms = number_of_rooms\n",
        "\n",
        "m = Mansion(\"123 Street\", 5000000, 10)\n",
        "print(m.address, m.price, m.number_of_rooms)\n"
      ],
      "metadata": {
        "colab": {
          "base_uri": "https://localhost:8080/"
        },
        "id": "m4-hWsBmP1ss",
        "outputId": "8af7e0c9-a2ff-462f-902f-504195daeefb"
      },
      "execution_count": 19,
      "outputs": [
        {
          "output_type": "stream",
          "name": "stdout",
          "text": [
            "123 Street 5000000 10\n"
          ]
        }
      ]
    }
  ]
}